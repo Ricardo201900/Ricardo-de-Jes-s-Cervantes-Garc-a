{
 "cells": [
  {
   "cell_type": "markdown",
   "metadata": {},
   "source": [
    "# Proyecto final \n",
    "## Creación del juego del gato"
   ]
  },
  {
   "cell_type": "code",
   "execution_count": null,
   "metadata": {},
   "outputs": [],
   "source": [
    "from random import randrange"
   ]
  },
  {
   "cell_type": "code",
   "execution_count": null,
   "metadata": {},
   "outputs": [],
   "source": [
    "def Borde(Tablero):\n",
    "    for i in range(3):\n",
    "        print('+-------'*3+'+',sep='')\n",
    "        print('|       '*3+'|',sep='')\n",
    "        for j in range(3):\n",
    "            print('|   '+str(Tablero[i][j])+'   ',end='')\n",
    "        print('|')\n",
    "        print('|       '*3+'|',sep='')\n",
    "    print('+-------'*3+'+',sep='')"
   ]
  },
  {
   "cell_type": "code",
   "execution_count": null,
   "metadata": {},
   "outputs": [],
   "source": [
    "def Movimiento_valido(Tablero):\n",
    "    valido=False\n",
    "    while valido==False:\n",
    "        try:\n",
    "            valido=True\n",
    "            movimiento=int(input('Ingresa tu movimeinto que debe ser un valor entre 1 y 9'))\n",
    "            if not(movimiento>=1 and movimiento<=9):\n",
    "                valido=False\n",
    "                print('Movimiento no valido favor de volverlo a poner')\n",
    "                continue\n",
    "            movimiento=movimiento-1\n",
    "            i=movimiento//3\n",
    "            j=movimiento%3\n",
    "            dentro=Tablero[i][j]\n",
    "            if dentro in ['O','X']:\n",
    "                valido=False\n",
    "                print('Este espacio esta ocupado')\n",
    "                continue\n",
    "            Tablero[i][j]='O'\n",
    "        except ValueError:\n",
    "            print('No se puede poner numeros con decimales')\n",
    "            valido=False\n",
    "            continue"
   ]
  },
  {
   "cell_type": "code",
   "execution_count": null,
   "metadata": {},
   "outputs": [],
   "source": [
    "def Espacios_vacios(Tablero):\n",
    "    Espacios=[]\n",
    "    for i in range(3):\n",
    "        for j in range(3):\n",
    "            if Tablero[i][j] not in ['O','X']:\n",
    "                Espacios.append((i,j))\n",
    "    return Espacios"
   ]
  },
  {
   "cell_type": "code",
   "execution_count": null,
   "metadata": {},
   "outputs": [],
   "source": [
    "def Victoria(Tablero, Señal):\n",
    "    if Señal=='O':\n",
    "        Jugador='Tú'\n",
    "    elif Señal=='X':\n",
    "        Jugador='CPU'\n",
    "    else:\n",
    "        Jugador=None\n",
    "    diagonal1=diagonal2=True\n",
    "    for i in range(3):\n",
    "        if Tablero[i][0]==Señal and Tablero[i][1]==Señal and Tablero[i][2]==Señal:\n",
    "            return Jugador\n",
    "        if Tablero[0][i]==Señal and Tablero[1][i]==Señal and Tablero[2][i]==Señal:\n",
    "            return Jugador\n",
    "        if Tablero[i][i]!=Señal:\n",
    "            diagonal1=False\n",
    "        if Tablero[2-i][2-i]!=Señal:\n",
    "            diagonal2=False\n",
    "    if diagonal1 or diagonal2:\n",
    "        return Jugador\n",
    "    return None"
   ]
  },
  {
   "cell_type": "code",
   "execution_count": null,
   "metadata": {},
   "outputs": [],
   "source": [
    "def Movimiento_maquina(Tablero):\n",
    "    Espacio=Espacios_vacios(Tablero)\n",
    "    if len(Espacio)>0:\n",
    "        Selección=randrange(len(Espacio))\n",
    "        i,j=Espacio[Selección]\n",
    "        Tablero[i][j]='X'"
   ]
  },
  {
   "cell_type": "code",
   "execution_count": null,
   "metadata": {},
   "outputs": [],
   "source": [
    "Tablero=[[x+3*y+1 for x in range(3)]for y in range(3)]\n",
    "Tablero[1][1]='X'\n",
    "Espacios=Espacios_vacios(Tablero)\n",
    "turno_humano=True\n",
    "Borde(Tablero)\n",
    "while len(Espacios):\n",
    "    if turno_humano:\n",
    "        Movimiento_valido(Tablero)\n",
    "        Ganador=Victoria(Tablero,'O')\n",
    "    else:\n",
    "        Movimiento_maquina(Tablero)\n",
    "        Ganador=Victoria(Tablero,'X')\n",
    "    if Ganador != None:\n",
    "        break\n",
    "    turno_humano=not turno_humano\n",
    "    Espacios=Espacios_vacios(Tablero)\n",
    "    Borde(Tablero)\n",
    "Borde(Tablero)\n",
    "if Ganador=='Tú':\n",
    "    print('Has ganado')\n",
    "elif Ganador=='CPU':\n",
    "    print('He ganado')\n",
    "else:\n",
    "    print('Empate')"
   ]
  }
 ],
 "metadata": {
  "kernelspec": {
   "display_name": "Python 3",
   "language": "python",
   "name": "python3"
  },
  "language_info": {
   "name": "python",
   "version": "3.10.11"
  }
 },
 "nbformat": 4,
 "nbformat_minor": 2
}
